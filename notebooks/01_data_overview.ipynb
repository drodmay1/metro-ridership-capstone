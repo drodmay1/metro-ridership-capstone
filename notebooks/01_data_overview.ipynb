{
 "cells": [
  {
   "cell_type": "markdown",
   "id": "5a13891c",
   "metadata": {},
   "source": [
    "# 1: Load and Inspect Data\n",
    "\n",
    "We begin by loading the daily Metrorail ridership dataset and displaying the first few rows to understand its structure.\n"
   ]
  },
  {
   "cell_type": "code",
   "execution_count": 26,
   "id": "eae622df",
   "metadata": {},
   "outputs": [],
   "source": [
    "import pandas as pd\n",
    "df = pd.read_excel('data/Daily Ridership.xlsx', header=1)\n",
    "\n"
   ]
  },
  {
   "cell_type": "markdown",
   "id": "9406601e",
   "metadata": {},
   "source": [
    "## 2: Transpose Data\n",
    "\n",
    "We transpose the dataset so that dates become rows and 'Bus' and 'Rail' become columns.\n"
   ]
  },
  {
   "cell_type": "code",
   "execution_count": 27,
   "id": "d43b280e",
   "metadata": {},
   "outputs": [
    {
     "data": {
      "text/html": [
       "<div>\n",
       "<style scoped>\n",
       "    .dataframe tbody tr th:only-of-type {\n",
       "        vertical-align: middle;\n",
       "    }\n",
       "\n",
       "    .dataframe tbody tr th {\n",
       "        vertical-align: top;\n",
       "    }\n",
       "\n",
       "    .dataframe thead th {\n",
       "        text-align: right;\n",
       "    }\n",
       "</style>\n",
       "<table border=\"1\" class=\"dataframe\">\n",
       "  <thead>\n",
       "    <tr style=\"text-align: right;\">\n",
       "      <th>Mode</th>\n",
       "      <th>Date</th>\n",
       "      <th>Bus</th>\n",
       "      <th>Rail</th>\n",
       "    </tr>\n",
       "  </thead>\n",
       "  <tbody>\n",
       "    <tr>\n",
       "      <th>0</th>\n",
       "      <td>1/1/19</td>\n",
       "      <td>141809</td>\n",
       "      <td>110601</td>\n",
       "    </tr>\n",
       "    <tr>\n",
       "      <th>1</th>\n",
       "      <td>1/2/19</td>\n",
       "      <td>369962</td>\n",
       "      <td>460750</td>\n",
       "    </tr>\n",
       "    <tr>\n",
       "      <th>2</th>\n",
       "      <td>1/3/19</td>\n",
       "      <td>397204</td>\n",
       "      <td>497421</td>\n",
       "    </tr>\n",
       "    <tr>\n",
       "      <th>3</th>\n",
       "      <td>1/4/19</td>\n",
       "      <td>386149</td>\n",
       "      <td>472248</td>\n",
       "    </tr>\n",
       "    <tr>\n",
       "      <th>4</th>\n",
       "      <td>1/5/19</td>\n",
       "      <td>195569</td>\n",
       "      <td>159645</td>\n",
       "    </tr>\n",
       "  </tbody>\n",
       "</table>\n",
       "</div>"
      ],
      "text/plain": [
       "Mode    Date     Bus    Rail\n",
       "0     1/1/19  141809  110601\n",
       "1     1/2/19  369962  460750\n",
       "2     1/3/19  397204  497421\n",
       "3     1/4/19  386149  472248\n",
       "4     1/5/19  195569  159645"
      ]
     },
     "execution_count": 27,
     "metadata": {},
     "output_type": "execute_result"
    }
   ],
   "source": [
    "# Transpose the dataframe so that dates become rows\n",
    "df_t = df.set_index('Mode').T\n",
    "\n",
    "# Reset the index so the dates become a column\n",
    "df_t = df_t.reset_index().rename(columns={'index': 'Date'})\n",
    "\n",
    "# Display the first few rows\n",
    "df_t.head()\n"
   ]
  },
  {
   "cell_type": "markdown",
   "id": "802fcf06",
   "metadata": {},
   "source": [
    "## 3: Convert Dates to Datetime Format\n",
    "\n",
    "To work with time-based data effectively, we convert the `Date` column to datetime format and confirm the change using `.info()`."
   ]
  },
  {
   "cell_type": "code",
   "execution_count": 28,
   "id": "02877a39",
   "metadata": {},
   "outputs": [
    {
     "name": "stderr",
     "output_type": "stream",
     "text": [
      "/var/folders/02/57dqfrgx6zzfw_sgv9yyk60c0000gn/T/ipykernel_3147/383267541.py:2: UserWarning: Could not infer format, so each element will be parsed individually, falling back to `dateutil`. To ensure parsing is consistent and as-expected, please specify a format.\n",
      "  df_t['Date'] = pd.to_datetime(df_t['Date'])\n"
     ]
    },
    {
     "name": "stdout",
     "output_type": "stream",
     "text": [
      "<class 'pandas.core.frame.DataFrame'>\n",
      "RangeIndex: 2192 entries, 0 to 2191\n",
      "Data columns (total 3 columns):\n",
      " #   Column  Non-Null Count  Dtype         \n",
      "---  ------  --------------  -----         \n",
      " 0   Date    2192 non-null   datetime64[ns]\n",
      " 1   Bus     2192 non-null   int64         \n",
      " 2   Rail    2192 non-null   int64         \n",
      "dtypes: datetime64[ns](1), int64(2)\n",
      "memory usage: 51.5 KB\n"
     ]
    }
   ],
   "source": [
    "# Convert the 'Date' column to datetime format\n",
    "df_t['Date'] = pd.to_datetime(df_t['Date'])\n",
    "\n",
    "# Confirm the conversion\n",
    "df_t.info()\n"
   ]
  },
  {
   "cell_type": "markdown",
   "id": "82a0b53d",
   "metadata": {},
   "source": [
    "## 4: Filter for Metrorail Data Only\n",
    "\n",
    "Since we are focusing on Metrorail ridership, we create a new DataFrame that includes only the `Date` and `Rail` columns.\n"
   ]
  },
  {
   "cell_type": "code",
   "execution_count": 29,
   "id": "d7b8aba6",
   "metadata": {},
   "outputs": [],
   "source": [
    "df_rail = df_t[['Date', 'Rail']]\n"
   ]
  },
  {
   "cell_type": "code",
   "execution_count": 30,
   "id": "0ffc04b9",
   "metadata": {},
   "outputs": [
    {
     "data": {
      "text/html": [
       "<div>\n",
       "<style scoped>\n",
       "    .dataframe tbody tr th:only-of-type {\n",
       "        vertical-align: middle;\n",
       "    }\n",
       "\n",
       "    .dataframe tbody tr th {\n",
       "        vertical-align: top;\n",
       "    }\n",
       "\n",
       "    .dataframe thead th {\n",
       "        text-align: right;\n",
       "    }\n",
       "</style>\n",
       "<table border=\"1\" class=\"dataframe\">\n",
       "  <thead>\n",
       "    <tr style=\"text-align: right;\">\n",
       "      <th>Mode</th>\n",
       "      <th>Date</th>\n",
       "      <th>Rail</th>\n",
       "    </tr>\n",
       "  </thead>\n",
       "  <tbody>\n",
       "    <tr>\n",
       "      <th>0</th>\n",
       "      <td>2019-01-01</td>\n",
       "      <td>110601</td>\n",
       "    </tr>\n",
       "    <tr>\n",
       "      <th>1</th>\n",
       "      <td>2019-01-02</td>\n",
       "      <td>460750</td>\n",
       "    </tr>\n",
       "    <tr>\n",
       "      <th>2</th>\n",
       "      <td>2019-01-03</td>\n",
       "      <td>497421</td>\n",
       "    </tr>\n",
       "    <tr>\n",
       "      <th>3</th>\n",
       "      <td>2019-01-04</td>\n",
       "      <td>472248</td>\n",
       "    </tr>\n",
       "    <tr>\n",
       "      <th>4</th>\n",
       "      <td>2019-01-05</td>\n",
       "      <td>159645</td>\n",
       "    </tr>\n",
       "  </tbody>\n",
       "</table>\n",
       "</div>"
      ],
      "text/plain": [
       "Mode       Date    Rail\n",
       "0    2019-01-01  110601\n",
       "1    2019-01-02  460750\n",
       "2    2019-01-03  497421\n",
       "3    2019-01-04  472248\n",
       "4    2019-01-05  159645"
      ]
     },
     "execution_count": 30,
     "metadata": {},
     "output_type": "execute_result"
    }
   ],
   "source": [
    "df_rail.head()\n"
   ]
  },
  {
   "cell_type": "code",
   "execution_count": null,
   "id": "dcddafc6",
   "metadata": {},
   "outputs": [],
   "source": []
  }
 ],
 "metadata": {
  "kernelspec": {
   "display_name": ".venv",
   "language": "python",
   "name": "python3"
  },
  "language_info": {
   "codemirror_mode": {
    "name": "ipython",
    "version": 3
   },
   "file_extension": ".py",
   "mimetype": "text/x-python",
   "name": "python",
   "nbconvert_exporter": "python",
   "pygments_lexer": "ipython3",
   "version": "3.11.9"
  }
 },
 "nbformat": 4,
 "nbformat_minor": 5
}
