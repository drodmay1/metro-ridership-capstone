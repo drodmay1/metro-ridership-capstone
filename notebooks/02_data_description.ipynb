{
 "cells": [
  {
   "cell_type": "code",
   "execution_count": 3,
   "id": "3c910d54",
   "metadata": {},
   "outputs": [
    {
     "data": {
      "text/html": [
       "<div>\n",
       "<style scoped>\n",
       "    .dataframe tbody tr th:only-of-type {\n",
       "        vertical-align: middle;\n",
       "    }\n",
       "\n",
       "    .dataframe tbody tr th {\n",
       "        vertical-align: top;\n",
       "    }\n",
       "\n",
       "    .dataframe thead th {\n",
       "        text-align: right;\n",
       "    }\n",
       "</style>\n",
       "<table border=\"1\" class=\"dataframe\">\n",
       "  <thead>\n",
       "    <tr style=\"text-align: right;\">\n",
       "      <th></th>\n",
       "      <th>Bus</th>\n",
       "      <th>141809</th>\n",
       "      <th>369962</th>\n",
       "      <th>397204</th>\n",
       "      <th>386149</th>\n",
       "      <th>195569</th>\n",
       "      <th>166810</th>\n",
       "      <th>394049</th>\n",
       "      <th>406894</th>\n",
       "      <th>389806</th>\n",
       "      <th>...</th>\n",
       "      <th>184980</th>\n",
       "      <th>292357</th>\n",
       "      <th>239149</th>\n",
       "      <th>116612</th>\n",
       "      <th>257023</th>\n",
       "      <th>296062</th>\n",
       "      <th>201763</th>\n",
       "      <th>194756</th>\n",
       "      <th>313287</th>\n",
       "      <th>292875</th>\n",
       "    </tr>\n",
       "  </thead>\n",
       "  <tbody>\n",
       "    <tr>\n",
       "      <th>0</th>\n",
       "      <td>Rail</td>\n",
       "      <td>110601</td>\n",
       "      <td>460750</td>\n",
       "      <td>497421</td>\n",
       "      <td>472248</td>\n",
       "      <td>159645</td>\n",
       "      <td>117315</td>\n",
       "      <td>511506</td>\n",
       "      <td>553595</td>\n",
       "      <td>547497</td>\n",
       "      <td>...</td>\n",
       "      <td>170401</td>\n",
       "      <td>256436</td>\n",
       "      <td>150711</td>\n",
       "      <td>61690</td>\n",
       "      <td>206840</td>\n",
       "      <td>239847</td>\n",
       "      <td>174125</td>\n",
       "      <td>168612</td>\n",
       "      <td>275401</td>\n",
       "      <td>284221</td>\n",
       "    </tr>\n",
       "  </tbody>\n",
       "</table>\n",
       "<p>1 rows × 2193 columns</p>\n",
       "</div>"
      ],
      "text/plain": [
       "    Bus  141809  369962  397204  386149  195569  166810  394049  406894  \\\n",
       "0  Rail  110601  460750  497421  472248  159645  117315  511506  553595   \n",
       "\n",
       "   389806  ...  184980  292357  239149  116612  257023  296062  201763  \\\n",
       "0  547497  ...  170401  256436  150711   61690  206840  239847  174125   \n",
       "\n",
       "   194756  313287  292875  \n",
       "0  168612  275401  284221  \n",
       "\n",
       "[1 rows x 2193 columns]"
      ]
     },
     "execution_count": 3,
     "metadata": {},
     "output_type": "execute_result"
    }
   ],
   "source": [
    "df = pd.read_csv('data/metroridership.csv', header=1)\n",
    "df.head()\n"
   ]
  },
  {
   "cell_type": "code",
   "execution_count": 4,
   "id": "66c91c8d",
   "metadata": {},
   "outputs": [],
   "source": [
    "import pandas as pd\n",
    "\n",
    "# Load original Excel file using second row as header\n",
    "df = pd.read_excel('data/daily_metrorail_ridership.xlsx', header=1)\n",
    "\n",
    "# Filter to just 'Rail' mode (optional depending on your goal)\n",
    "df = df[df['Mode'] == 'Rail']\n",
    "\n",
    "# Transpose the dataset so dates become rows, and rename columns\n",
    "df_transposed = df.drop(columns='Mode').transpose().reset_index()\n",
    "df_transposed.columns = ['Date', 'Daily_Ridership']\n",
    "\n",
    "# Save the clean, tidy CSV\n",
    "df_transposed.to_csv('data/clean_metroridership.csv', index=False)\n"
   ]
  },
  {
   "cell_type": "code",
   "execution_count": null,
   "id": "d1dff1d5",
   "metadata": {},
   "outputs": [],
   "source": []
  }
 ],
 "metadata": {
  "kernelspec": {
   "display_name": ".venv",
   "language": "python",
   "name": "python3"
  },
  "language_info": {
   "codemirror_mode": {
    "name": "ipython",
    "version": 3
   },
   "file_extension": ".py",
   "mimetype": "text/x-python",
   "name": "python",
   "nbconvert_exporter": "python",
   "pygments_lexer": "ipython3",
   "version": "3.11.9"
  }
 },
 "nbformat": 4,
 "nbformat_minor": 5
}
